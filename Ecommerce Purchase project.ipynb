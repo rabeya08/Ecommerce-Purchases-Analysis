{
 "cells": [
  {
   "cell_type": "code",
   "execution_count": 1,
   "id": "64123b52-f4f9-4763-b537-23f151c3ff63",
   "metadata": {},
   "outputs": [],
   "source": [
    "import pandas as pd\n"
   ]
  },
  {
   "cell_type": "code",
   "execution_count": 2,
   "id": "f2c471b0-3b61-4df8-85ae-29d8f1172369",
   "metadata": {},
   "outputs": [],
   "source": [
    "data = pd.read_csv('E:\\Downloads\\Data\\Ecommerce Purchases')"
   ]
  },
  {
   "cell_type": "markdown",
   "id": "f2b0e86e-32f1-4823-a20f-5a0033d70d5f",
   "metadata": {},
   "source": [
    "## Display 10 rows."
   ]
  },
  {
   "cell_type": "code",
   "execution_count": 3,
   "id": "c13e8e0a-caa4-451f-92c2-df59b85e29f8",
   "metadata": {},
   "outputs": [
    {
     "data": {
      "text/html": [
       "<div>\n",
       "<style scoped>\n",
       "    .dataframe tbody tr th:only-of-type {\n",
       "        vertical-align: middle;\n",
       "    }\n",
       "\n",
       "    .dataframe tbody tr th {\n",
       "        vertical-align: top;\n",
       "    }\n",
       "\n",
       "    .dataframe thead th {\n",
       "        text-align: right;\n",
       "    }\n",
       "</style>\n",
       "<table border=\"1\" class=\"dataframe\">\n",
       "  <thead>\n",
       "    <tr style=\"text-align: right;\">\n",
       "      <th></th>\n",
       "      <th>Address</th>\n",
       "      <th>Lot</th>\n",
       "      <th>AM or PM</th>\n",
       "      <th>Browser Info</th>\n",
       "      <th>Company</th>\n",
       "      <th>Credit Card</th>\n",
       "      <th>CC Exp Date</th>\n",
       "      <th>CC Security Code</th>\n",
       "      <th>CC Provider</th>\n",
       "      <th>Email</th>\n",
       "      <th>Job</th>\n",
       "      <th>IP Address</th>\n",
       "      <th>Language</th>\n",
       "      <th>Purchase Price</th>\n",
       "    </tr>\n",
       "  </thead>\n",
       "  <tbody>\n",
       "    <tr>\n",
       "      <th>0</th>\n",
       "      <td>16629 Pace Camp Apt. 448\\nAlexisborough, NE 77...</td>\n",
       "      <td>46 in</td>\n",
       "      <td>PM</td>\n",
       "      <td>Opera/9.56.(X11; Linux x86_64; sl-SI) Presto/2...</td>\n",
       "      <td>Martinez-Herman</td>\n",
       "      <td>6011929061123406</td>\n",
       "      <td>02/20</td>\n",
       "      <td>900</td>\n",
       "      <td>JCB 16 digit</td>\n",
       "      <td>pdunlap@yahoo.com</td>\n",
       "      <td>Scientist, product/process development</td>\n",
       "      <td>149.146.147.205</td>\n",
       "      <td>el</td>\n",
       "      <td>98.14</td>\n",
       "    </tr>\n",
       "    <tr>\n",
       "      <th>1</th>\n",
       "      <td>9374 Jasmine Spurs Suite 508\\nSouth John, TN 8...</td>\n",
       "      <td>28 rn</td>\n",
       "      <td>PM</td>\n",
       "      <td>Opera/8.93.(Windows 98; Win 9x 4.90; en-US) Pr...</td>\n",
       "      <td>Fletcher, Richards and Whitaker</td>\n",
       "      <td>3337758169645356</td>\n",
       "      <td>11/18</td>\n",
       "      <td>561</td>\n",
       "      <td>Mastercard</td>\n",
       "      <td>anthony41@reed.com</td>\n",
       "      <td>Drilling engineer</td>\n",
       "      <td>15.160.41.51</td>\n",
       "      <td>fr</td>\n",
       "      <td>70.73</td>\n",
       "    </tr>\n",
       "    <tr>\n",
       "      <th>2</th>\n",
       "      <td>Unit 0065 Box 5052\\nDPO AP 27450</td>\n",
       "      <td>94 vE</td>\n",
       "      <td>PM</td>\n",
       "      <td>Mozilla/5.0 (compatible; MSIE 9.0; Windows NT ...</td>\n",
       "      <td>Simpson, Williams and Pham</td>\n",
       "      <td>675957666125</td>\n",
       "      <td>08/19</td>\n",
       "      <td>699</td>\n",
       "      <td>JCB 16 digit</td>\n",
       "      <td>amymiller@morales-harrison.com</td>\n",
       "      <td>Customer service manager</td>\n",
       "      <td>132.207.160.22</td>\n",
       "      <td>de</td>\n",
       "      <td>0.95</td>\n",
       "    </tr>\n",
       "    <tr>\n",
       "      <th>3</th>\n",
       "      <td>7780 Julia Fords\\nNew Stacy, WA 45798</td>\n",
       "      <td>36 vm</td>\n",
       "      <td>PM</td>\n",
       "      <td>Mozilla/5.0 (Macintosh; Intel Mac OS X 10_8_0 ...</td>\n",
       "      <td>Williams, Marshall and Buchanan</td>\n",
       "      <td>6011578504430710</td>\n",
       "      <td>02/24</td>\n",
       "      <td>384</td>\n",
       "      <td>Discover</td>\n",
       "      <td>brent16@olson-robinson.info</td>\n",
       "      <td>Drilling engineer</td>\n",
       "      <td>30.250.74.19</td>\n",
       "      <td>es</td>\n",
       "      <td>78.04</td>\n",
       "    </tr>\n",
       "    <tr>\n",
       "      <th>4</th>\n",
       "      <td>23012 Munoz Drive Suite 337\\nNew Cynthia, TX 5...</td>\n",
       "      <td>20 IE</td>\n",
       "      <td>AM</td>\n",
       "      <td>Opera/9.58.(X11; Linux x86_64; it-IT) Presto/2...</td>\n",
       "      <td>Brown, Watson and Andrews</td>\n",
       "      <td>6011456623207998</td>\n",
       "      <td>10/25</td>\n",
       "      <td>678</td>\n",
       "      <td>Diners Club / Carte Blanche</td>\n",
       "      <td>christopherwright@gmail.com</td>\n",
       "      <td>Fine artist</td>\n",
       "      <td>24.140.33.94</td>\n",
       "      <td>es</td>\n",
       "      <td>77.82</td>\n",
       "    </tr>\n",
       "    <tr>\n",
       "      <th>5</th>\n",
       "      <td>7502 Powell Mission Apt. 768\\nTravisland, VA 3...</td>\n",
       "      <td>21 XT</td>\n",
       "      <td>PM</td>\n",
       "      <td>Mozilla/5.0 (Macintosh; U; PPC Mac OS X 10_8_5...</td>\n",
       "      <td>Silva-Anderson</td>\n",
       "      <td>30246185196287</td>\n",
       "      <td>07/25</td>\n",
       "      <td>7169</td>\n",
       "      <td>Discover</td>\n",
       "      <td>ynguyen@gmail.com</td>\n",
       "      <td>Fish farm manager</td>\n",
       "      <td>55.96.152.147</td>\n",
       "      <td>ru</td>\n",
       "      <td>25.15</td>\n",
       "    </tr>\n",
       "    <tr>\n",
       "      <th>6</th>\n",
       "      <td>93971 Conway Causeway\\nAndersonburgh, AZ 75107</td>\n",
       "      <td>96 Xt</td>\n",
       "      <td>AM</td>\n",
       "      <td>Mozilla/5.0 (compatible; MSIE 7.0; Windows NT ...</td>\n",
       "      <td>Gibson and Sons</td>\n",
       "      <td>6011398782655569</td>\n",
       "      <td>07/24</td>\n",
       "      <td>714</td>\n",
       "      <td>VISA 16 digit</td>\n",
       "      <td>olivia04@yahoo.com</td>\n",
       "      <td>Dancer</td>\n",
       "      <td>127.252.144.18</td>\n",
       "      <td>de</td>\n",
       "      <td>88.56</td>\n",
       "    </tr>\n",
       "    <tr>\n",
       "      <th>7</th>\n",
       "      <td>260 Rachel Plains Suite 366\\nCastroberg, WV 24...</td>\n",
       "      <td>96 pG</td>\n",
       "      <td>PM</td>\n",
       "      <td>Mozilla/5.0 (X11; Linux i686) AppleWebKit/5350...</td>\n",
       "      <td>Marshall-Collins</td>\n",
       "      <td>561252141909</td>\n",
       "      <td>06/25</td>\n",
       "      <td>256</td>\n",
       "      <td>VISA 13 digit</td>\n",
       "      <td>phillip48@parks.info</td>\n",
       "      <td>Event organiser</td>\n",
       "      <td>224.247.97.150</td>\n",
       "      <td>pt</td>\n",
       "      <td>44.25</td>\n",
       "    </tr>\n",
       "    <tr>\n",
       "      <th>8</th>\n",
       "      <td>2129 Dylan Burg\\nNew Michelle, ME 28650</td>\n",
       "      <td>45 JN</td>\n",
       "      <td>PM</td>\n",
       "      <td>Mozilla/5.0 (Macintosh; U; Intel Mac OS X 10_7...</td>\n",
       "      <td>Galloway and Sons</td>\n",
       "      <td>180041795790001</td>\n",
       "      <td>04/24</td>\n",
       "      <td>899</td>\n",
       "      <td>JCB 16 digit</td>\n",
       "      <td>kdavis@rasmussen.com</td>\n",
       "      <td>Financial manager</td>\n",
       "      <td>146.234.201.229</td>\n",
       "      <td>ru</td>\n",
       "      <td>59.54</td>\n",
       "    </tr>\n",
       "    <tr>\n",
       "      <th>9</th>\n",
       "      <td>3795 Dawson Extensions\\nLake Tinafort, ID 88739</td>\n",
       "      <td>15 Ug</td>\n",
       "      <td>AM</td>\n",
       "      <td>Mozilla/5.0 (X11; Linux i686; rv:1.9.7.20) Gec...</td>\n",
       "      <td>Rivera, Buchanan and Ramirez</td>\n",
       "      <td>4396283918371</td>\n",
       "      <td>01/17</td>\n",
       "      <td>931</td>\n",
       "      <td>American Express</td>\n",
       "      <td>qcoleman@hunt-huerta.com</td>\n",
       "      <td>Forensic scientist</td>\n",
       "      <td>236.198.199.8</td>\n",
       "      <td>zh</td>\n",
       "      <td>95.63</td>\n",
       "    </tr>\n",
       "  </tbody>\n",
       "</table>\n",
       "</div>"
      ],
      "text/plain": [
       "                                             Address    Lot AM or PM  \\\n",
       "0  16629 Pace Camp Apt. 448\\nAlexisborough, NE 77...  46 in       PM   \n",
       "1  9374 Jasmine Spurs Suite 508\\nSouth John, TN 8...  28 rn       PM   \n",
       "2                   Unit 0065 Box 5052\\nDPO AP 27450  94 vE       PM   \n",
       "3              7780 Julia Fords\\nNew Stacy, WA 45798  36 vm       PM   \n",
       "4  23012 Munoz Drive Suite 337\\nNew Cynthia, TX 5...  20 IE       AM   \n",
       "5  7502 Powell Mission Apt. 768\\nTravisland, VA 3...  21 XT       PM   \n",
       "6     93971 Conway Causeway\\nAndersonburgh, AZ 75107  96 Xt       AM   \n",
       "7  260 Rachel Plains Suite 366\\nCastroberg, WV 24...  96 pG       PM   \n",
       "8            2129 Dylan Burg\\nNew Michelle, ME 28650  45 JN       PM   \n",
       "9    3795 Dawson Extensions\\nLake Tinafort, ID 88739  15 Ug       AM   \n",
       "\n",
       "                                        Browser Info  \\\n",
       "0  Opera/9.56.(X11; Linux x86_64; sl-SI) Presto/2...   \n",
       "1  Opera/8.93.(Windows 98; Win 9x 4.90; en-US) Pr...   \n",
       "2  Mozilla/5.0 (compatible; MSIE 9.0; Windows NT ...   \n",
       "3  Mozilla/5.0 (Macintosh; Intel Mac OS X 10_8_0 ...   \n",
       "4  Opera/9.58.(X11; Linux x86_64; it-IT) Presto/2...   \n",
       "5  Mozilla/5.0 (Macintosh; U; PPC Mac OS X 10_8_5...   \n",
       "6  Mozilla/5.0 (compatible; MSIE 7.0; Windows NT ...   \n",
       "7  Mozilla/5.0 (X11; Linux i686) AppleWebKit/5350...   \n",
       "8  Mozilla/5.0 (Macintosh; U; Intel Mac OS X 10_7...   \n",
       "9  Mozilla/5.0 (X11; Linux i686; rv:1.9.7.20) Gec...   \n",
       "\n",
       "                           Company       Credit Card CC Exp Date  \\\n",
       "0                  Martinez-Herman  6011929061123406       02/20   \n",
       "1  Fletcher, Richards and Whitaker  3337758169645356       11/18   \n",
       "2       Simpson, Williams and Pham      675957666125       08/19   \n",
       "3  Williams, Marshall and Buchanan  6011578504430710       02/24   \n",
       "4        Brown, Watson and Andrews  6011456623207998       10/25   \n",
       "5                   Silva-Anderson    30246185196287       07/25   \n",
       "6                  Gibson and Sons  6011398782655569       07/24   \n",
       "7                 Marshall-Collins      561252141909       06/25   \n",
       "8                Galloway and Sons   180041795790001       04/24   \n",
       "9     Rivera, Buchanan and Ramirez     4396283918371       01/17   \n",
       "\n",
       "   CC Security Code                  CC Provider  \\\n",
       "0               900                 JCB 16 digit   \n",
       "1               561                   Mastercard   \n",
       "2               699                 JCB 16 digit   \n",
       "3               384                     Discover   \n",
       "4               678  Diners Club / Carte Blanche   \n",
       "5              7169                     Discover   \n",
       "6               714                VISA 16 digit   \n",
       "7               256                VISA 13 digit   \n",
       "8               899                 JCB 16 digit   \n",
       "9               931             American Express   \n",
       "\n",
       "                            Email                                     Job  \\\n",
       "0               pdunlap@yahoo.com  Scientist, product/process development   \n",
       "1              anthony41@reed.com                       Drilling engineer   \n",
       "2  amymiller@morales-harrison.com                Customer service manager   \n",
       "3     brent16@olson-robinson.info                       Drilling engineer   \n",
       "4     christopherwright@gmail.com                             Fine artist   \n",
       "5               ynguyen@gmail.com                       Fish farm manager   \n",
       "6              olivia04@yahoo.com                                  Dancer   \n",
       "7            phillip48@parks.info                         Event organiser   \n",
       "8            kdavis@rasmussen.com                       Financial manager   \n",
       "9        qcoleman@hunt-huerta.com                      Forensic scientist   \n",
       "\n",
       "        IP Address Language  Purchase Price  \n",
       "0  149.146.147.205       el           98.14  \n",
       "1     15.160.41.51       fr           70.73  \n",
       "2   132.207.160.22       de            0.95  \n",
       "3     30.250.74.19       es           78.04  \n",
       "4     24.140.33.94       es           77.82  \n",
       "5    55.96.152.147       ru           25.15  \n",
       "6   127.252.144.18       de           88.56  \n",
       "7   224.247.97.150       pt           44.25  \n",
       "8  146.234.201.229       ru           59.54  \n",
       "9    236.198.199.8       zh           95.63  "
      ]
     },
     "execution_count": 3,
     "metadata": {},
     "output_type": "execute_result"
    }
   ],
   "source": [
    "data.head(10)"
   ]
  },
  {
   "cell_type": "markdown",
   "id": "127f916d-5d5b-46ea-af36-1306627ef347",
   "metadata": {},
   "source": [
    "## Check datatype of each column"
   ]
  },
  {
   "cell_type": "code",
   "execution_count": 4,
   "id": "1af23386-a0bd-4578-b81b-a90db189d2c2",
   "metadata": {},
   "outputs": [
    {
     "data": {
      "text/plain": [
       "Address              object\n",
       "Lot                  object\n",
       "AM or PM             object\n",
       "Browser Info         object\n",
       "Company              object\n",
       "Credit Card           int64\n",
       "CC Exp Date          object\n",
       "CC Security Code      int64\n",
       "CC Provider          object\n",
       "Email                object\n",
       "Job                  object\n",
       "IP Address           object\n",
       "Language             object\n",
       "Purchase Price      float64\n",
       "dtype: object"
      ]
     },
     "execution_count": 4,
     "metadata": {},
     "output_type": "execute_result"
    }
   ],
   "source": [
    "data.dtypes"
   ]
  },
  {
   "cell_type": "markdown",
   "id": "33ed4148-7dfb-4a74-9210-e83918ba0e5b",
   "metadata": {},
   "source": [
    "## How many null values are there?"
   ]
  },
  {
   "cell_type": "code",
   "execution_count": 5,
   "id": "3b973e32-1340-4ec9-a1ea-3132c2962fb8",
   "metadata": {},
   "outputs": [
    {
     "data": {
      "text/plain": [
       "Address             0\n",
       "Lot                 0\n",
       "AM or PM            0\n",
       "Browser Info        0\n",
       "Company             0\n",
       "Credit Card         0\n",
       "CC Exp Date         0\n",
       "CC Security Code    0\n",
       "CC Provider         0\n",
       "Email               0\n",
       "Job                 0\n",
       "IP Address          0\n",
       "Language            0\n",
       "Purchase Price      0\n",
       "dtype: int64"
      ]
     },
     "execution_count": 5,
     "metadata": {},
     "output_type": "execute_result"
    }
   ],
   "source": [
    "data.isnull().sum()"
   ]
  },
  {
   "cell_type": "markdown",
   "id": "bdd04f0c-9fcd-4f98-9aa9-35832d7e1ce1",
   "metadata": {},
   "source": [
    "## Highest and lowest purchase price"
   ]
  },
  {
   "cell_type": "code",
   "execution_count": 6,
   "id": "197ae225-fb65-4acf-8012-d23cf4a76660",
   "metadata": {},
   "outputs": [
    {
     "name": "stdout",
     "output_type": "stream",
     "text": [
      "Highest Purchase Price is: 99.99\n"
     ]
    }
   ],
   "source": [
    "highest = data['Purchase Price'].max()\n",
    "print('Highest Purchase Price is:', highest)"
   ]
  },
  {
   "cell_type": "code",
   "execution_count": 7,
   "id": "05d7adaf-facc-4718-853c-36fad85e08d5",
   "metadata": {},
   "outputs": [
    {
     "name": "stdout",
     "output_type": "stream",
     "text": [
      "Lowest Purchase Price is: 0.0\n"
     ]
    }
   ],
   "source": [
    "lowest = data['Purchase Price'].min()\n",
    "print('Lowest Purchase Price is:',lowest)"
   ]
  },
  {
   "cell_type": "markdown",
   "id": "841c1f97-b7d2-45aa-b7c5-d27533c053cf",
   "metadata": {},
   "source": [
    "## How many people have French as their language?"
   ]
  },
  {
   "cell_type": "code",
   "execution_count": 8,
   "id": "cf4f385d-8a82-4c08-80e4-34138012bef8",
   "metadata": {},
   "outputs": [
    {
     "name": "stdout",
     "output_type": "stream",
     "text": [
      "1097 people have French as their language\n"
     ]
    }
   ],
   "source": [
    "fr = len(data[data['Language'] == 'fr'])\n",
    "print(f'{fr} people have French as their language')"
   ]
  },
  {
   "cell_type": "markdown",
   "id": "09138be7-14d5-485f-a22d-3cdc73db72e5",
   "metadata": {},
   "source": [
    "## How many engineer are there?"
   ]
  },
  {
   "cell_type": "code",
   "execution_count": 9,
   "id": "1ad91bb1-99e1-47e4-b6b3-4288de4fb1e6",
   "metadata": {},
   "outputs": [
    {
     "name": "stdout",
     "output_type": "stream",
     "text": [
      "531 people are engineer\n"
     ]
    }
   ],
   "source": [
    "eng = len(data[data['Job'].str.contains('engineer')])\n",
    "print(f'{eng} people are engineer')"
   ]
  },
  {
   "cell_type": "markdown",
   "id": "a98b92df-f68c-4e18-853e-928d3669dfdd",
   "metadata": {},
   "source": [
    "## Find email of the person with the following ip address: 132.207.160.22"
   ]
  },
  {
   "cell_type": "code",
   "execution_count": 10,
   "id": "b73b2180-90b7-45ed-839d-017621f8af20",
   "metadata": {},
   "outputs": [
    {
     "data": {
      "text/plain": [
       "2    amymiller@morales-harrison.com\n",
       "Name: Email, dtype: object"
      ]
     },
     "execution_count": 10,
     "metadata": {},
     "output_type": "execute_result"
    }
   ],
   "source": [
    "data[data['IP Address'] == '132.207.160.22']['Email']"
   ]
  },
  {
   "cell_type": "markdown",
   "id": "9a56be8e-df1a-4e0a-b27d-74af6d539128",
   "metadata": {},
   "source": [
    "## How many people have mastercard as their credit card provider and made a purchase above 50?"
   ]
  },
  {
   "cell_type": "code",
   "execution_count": 11,
   "id": "95c6d68d-5fa3-441a-bc03-744be030de3e",
   "metadata": {},
   "outputs": [
    {
     "data": {
      "text/plain": [
       "405"
      ]
     },
     "execution_count": 11,
     "metadata": {},
     "output_type": "execute_result"
    }
   ],
   "source": [
    "len(data[(data['CC Provider']=='Mastercard') & (data['Purchase Price'] > 50)])"
   ]
  },
  {
   "cell_type": "markdown",
   "id": "54ab6b62-704a-4a26-b43e-6d3e6bbda06f",
   "metadata": {},
   "source": [
    "## How many people purchase during AM and How many people purchase during PM?"
   ]
  },
  {
   "cell_type": "code",
   "execution_count": 12,
   "id": "f9d3ae61-234b-4111-beb3-42fd8f5737ea",
   "metadata": {},
   "outputs": [
    {
     "data": {
      "text/plain": [
       "AM or PM\n",
       "PM    5068\n",
       "AM    4932\n",
       "Name: count, dtype: int64"
      ]
     },
     "execution_count": 12,
     "metadata": {},
     "output_type": "execute_result"
    }
   ],
   "source": [
    "data['AM or PM'].value_counts()"
   ]
  },
  {
   "cell_type": "markdown",
   "id": "55e2551b-ee1f-4c1d-a2b7-ece43b191f69",
   "metadata": {},
   "source": [
    "## How many people have a credit card that expires in 2020?"
   ]
  },
  {
   "cell_type": "code",
   "execution_count": 13,
   "id": "6fbb29e6-aaea-41d5-885b-bbd839289e9f",
   "metadata": {},
   "outputs": [
    {
     "name": "stdout",
     "output_type": "stream",
     "text": [
      "988\n"
     ]
    }
   ],
   "source": [
    "def exp():\n",
    "    count = 0\n",
    "    for date in data['CC Exp Date']:\n",
    "        if date.split('/')[1]=='20':\n",
    "            count=count+1\n",
    "    print(count)\n",
    "\n",
    "exp()"
   ]
  },
  {
   "cell_type": "code",
   "execution_count": 14,
   "id": "c0205a1a-8878-4fa1-9ce7-f2710f934431",
   "metadata": {},
   "outputs": [],
   "source": [
    "#or"
   ]
  },
  {
   "cell_type": "code",
   "execution_count": 15,
   "id": "ae001324-998e-4103-b72d-bdb894dfd594",
   "metadata": {},
   "outputs": [
    {
     "data": {
      "text/plain": [
       "988"
      ]
     },
     "execution_count": 15,
     "metadata": {},
     "output_type": "execute_result"
    }
   ],
   "source": [
    "len(data[data['CC Exp Date'].apply(lambda x:x[3:]=='20')])"
   ]
  },
  {
   "cell_type": "markdown",
   "id": "343b44a1-b31c-444c-8c53-195329a5b38d",
   "metadata": {},
   "source": [
    "## Top 5 most popular email provider"
   ]
  },
  {
   "cell_type": "code",
   "execution_count": 16,
   "id": "07d3ebfc-9a4b-4125-a4a0-852af0681563",
   "metadata": {},
   "outputs": [],
   "source": [
    "list = []\n",
    "for email in data['Email']:\n",
    "    list.append(email.split('@')[1])\n"
   ]
  },
  {
   "cell_type": "code",
   "execution_count": 17,
   "id": "e242a27e-af36-4564-b9a3-fee3a3279ff6",
   "metadata": {},
   "outputs": [],
   "source": [
    "data['provider'] = list"
   ]
  },
  {
   "cell_type": "code",
   "execution_count": 18,
   "id": "f9f4d5b6-57fe-4555-bc4b-8149d8d03e3c",
   "metadata": {},
   "outputs": [
    {
     "data": {
      "text/plain": [
       "provider\n",
       "hotmail.com     1638\n",
       "yahoo.com       1616\n",
       "gmail.com       1605\n",
       "smith.com         42\n",
       "williams.com      37\n",
       "Name: count, dtype: int64"
      ]
     },
     "execution_count": 18,
     "metadata": {},
     "output_type": "execute_result"
    }
   ],
   "source": [
    "data['provider'].value_counts().head(5)"
   ]
  },
  {
   "cell_type": "code",
   "execution_count": 19,
   "id": "18aac41b-aa41-4367-9b9c-db5f3e900129",
   "metadata": {},
   "outputs": [],
   "source": [
    "#or"
   ]
  },
  {
   "cell_type": "code",
   "execution_count": 20,
   "id": "beda4834-6ff2-4bd1-aa19-26e5a5412453",
   "metadata": {},
   "outputs": [
    {
     "data": {
      "text/plain": [
       "Email\n",
       "hotmail.com     1638\n",
       "yahoo.com       1616\n",
       "gmail.com       1605\n",
       "smith.com         42\n",
       "williams.com      37\n",
       "Name: count, dtype: int64"
      ]
     },
     "execution_count": 20,
     "metadata": {},
     "output_type": "execute_result"
    }
   ],
   "source": [
    "data['Email'].apply(lambda x: x.split('@')[1]).value_counts().head()"
   ]
  },
  {
   "cell_type": "code",
   "execution_count": null,
   "id": "545006f1-a396-4879-9b7d-5ec265ea2ba4",
   "metadata": {},
   "outputs": [],
   "source": []
  }
 ],
 "metadata": {
  "kernelspec": {
   "display_name": "Python 3 (ipykernel)",
   "language": "python",
   "name": "python3"
  },
  "language_info": {
   "codemirror_mode": {
    "name": "ipython",
    "version": 3
   },
   "file_extension": ".py",
   "mimetype": "text/x-python",
   "name": "python",
   "nbconvert_exporter": "python",
   "pygments_lexer": "ipython3",
   "version": "3.11.7"
  }
 },
 "nbformat": 4,
 "nbformat_minor": 5
}
